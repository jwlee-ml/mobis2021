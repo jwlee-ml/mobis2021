{
  "nbformat": 4,
  "nbformat_minor": 0,
  "metadata": {
    "kernelspec": {
      "name": "python3",
      "display_name": "Python 3"
    },
    "language_info": {
      "codemirror_mode": {
        "name": "ipython",
        "version": 3
      },
      "file_extension": ".py",
      "mimetype": "text/x-python",
      "name": "python",
      "nbconvert_exporter": "python",
      "pygments_lexer": "ipython3",
      "version": "3.7.6"
    },
    "colab": {
      "name": "4.Training_Neural_Networks.ipynb",
      "provenance": [],
      "collapsed_sections": [
        "KAAFSOnkUytO",
        "QknPYbfxUytY",
        "xsmTVN1YUytg",
        "BMqivarTUyto",
        "eMYl9svEZ19P"
      ]
    },
    "accelerator": "GPU"
  },
  "cells": [
    {
      "cell_type": "markdown",
      "metadata": {
        "id": "MnzCRlUxUysg"
      },
      "source": [
        "# Training Neural Networks\n",
        "\n",
        "이번 실습에서는 neural network을 training하는데 사용되는 여러가지 방법들에 대해서 실습해보고,\n",
        "\n",
        "이러한 방법들을 이용하여 MNIST dataset의 성능을 어디까지 올릴 수 있는지 도전해보도록 하겠습니다"
      ]
    },
    {
      "cell_type": "code",
      "metadata": {
        "id": "B_OLmD3KUysn"
      },
      "source": [
        "## 필요한 Library들을 import 합니다\n",
        "import numpy as np\n",
        "import matplotlib.pyplot as plt\n",
        "import tensorflow as tf\n",
        "from tensorflow import keras\n",
        "\n",
        "## TensorFlow, Keras version 확인\n",
        "print(tf.__version__)\n",
        "print(keras.__version__)"
      ],
      "execution_count": null,
      "outputs": []
    },
    {
      "cell_type": "code",
      "metadata": {
        "id": "MTmeu9TLUysr"
      },
      "source": [
        "np.random.seed(777)\n",
        "tf.random.set_seed(777)"
      ],
      "execution_count": null,
      "outputs": []
    },
    {
      "cell_type": "markdown",
      "metadata": {
        "id": "RJ_oEC8wUysu"
      },
      "source": [
        "## Coding Tips\n",
        "\n",
        "#### 1. Hyper Parameter 정하기\n",
        "#### 2. Data 준비(불러오기 or download 등)\n",
        "#### 3. Dataset 구성 (tf.data.Dataset 이용)\n",
        "#### 4. Model 만들기 (Neural Network model)\n",
        "#### 5. Loss function 정의, Optimizer 선택\n",
        "#### 6. Training (Train, Test function 만들기 포함)\n",
        "#### 7. Validation(or Test) 결과 확인"
      ]
    },
    {
      "cell_type": "markdown",
      "metadata": {
        "id": "vbBoegT6Uysv"
      },
      "source": [
        "## 3-Layer Network"
      ]
    },
    {
      "cell_type": "code",
      "metadata": {
        "id": "QsvMKN1CUysw"
      },
      "source": [
        "## Hyper-parameters\n",
        "learning_rate = 0.001\n",
        "N_EPOCHS = 30\n",
        "N_BATCH = 100\n",
        "N_CLASS = 10"
      ],
      "execution_count": null,
      "outputs": []
    },
    {
      "cell_type": "code",
      "metadata": {
        "id": "LnMX4ZaMUysz"
      },
      "source": [
        "## MNIST Dataset #########################################################\n",
        "mnist = keras.datasets.mnist\n",
        "class_names = ['0', '1', '2', '3', '4', '5', '6', '7', '8', '9']\n",
        "##########################################################################\n",
        "\n",
        "## Fashion MNIST Dataset #################################################\n",
        "#mnist = keras.datasets.fashion_mnist\n",
        "#class_names = ['T-shirt/top', 'Trouser', 'Pullover', 'Dress', 'Coat', 'Sandal', 'Shirt', 'Sneaker', 'Bag', 'Ankle boot']\n",
        "##########################################################################"
      ],
      "execution_count": null,
      "outputs": []
    },
    {
      "cell_type": "code",
      "metadata": {
        "id": "E0akilm0Uys3"
      },
      "source": [
        "## MNIST dataset load\n",
        "(train_images, train_labels), (test_images, test_labels) = mnist.load_data() "
      ],
      "execution_count": null,
      "outputs": []
    },
    {
      "cell_type": "code",
      "metadata": {
        "id": "8-nU_KQHUys6"
      },
      "source": [
        "N_TRAIN = train_images.shape[0]\n",
        "N_TEST = test_images.shape[0]"
      ],
      "execution_count": null,
      "outputs": []
    },
    {
      "cell_type": "code",
      "metadata": {
        "id": "rTN15qF8Uys9"
      },
      "source": [
        "## image를 0~1사이 값으로 만들기 위하여 255로 나누어줌\n",
        "train_images = train_images.astype(np.float32) / 255.\n",
        "test_images = test_images.astype(np.float32) / 255.\n",
        "\n",
        "## one-hot encoding\n",
        "train_labels = keras.utils.to_categorical(train_labels, N_CLASS)\n",
        "test_labels = keras.utils.to_categorical(test_labels, N_CLASS)"
      ],
      "execution_count": null,
      "outputs": []
    },
    {
      "cell_type": "code",
      "metadata": {
        "id": "2cobgxbyUytA"
      },
      "source": [
        "## dataset 구성    \n",
        "train_dataset = tf.data.Dataset.from_tensor_slices((train_images, train_labels)).shuffle(\n",
        "                buffer_size=100000).batch(N_BATCH).repeat()\n",
        "test_dataset = tf.data.Dataset.from_tensor_slices((test_images, test_labels)).batch(N_BATCH)"
      ],
      "execution_count": null,
      "outputs": []
    },
    {
      "cell_type": "code",
      "metadata": {
        "id": "moUH42HSUytD"
      },
      "source": [
        "## model function\n",
        "def create_model():\n",
        "    model = keras.Sequential()\n",
        "    model.add(keras.layers.Flatten(input_shape=(28,28)))\n",
        "    model.add(keras.layers.Dense(256, activation='relu'))\n",
        "    model.add(keras.layers.Dense(128, activation='relu'))\n",
        "    model.add(keras.layers.Dense(10, activation='softmax'))\n",
        "    return model"
      ],
      "execution_count": null,
      "outputs": []
    },
    {
      "cell_type": "code",
      "metadata": {
        "id": "2STY-n0aUytG"
      },
      "source": [
        "## Create model, compile & summary\n",
        "model = create_model()\n",
        "model.compile(optimizer=tf.keras.optimizers.Adam(learning_rate),\n",
        "              loss='categorical_crossentropy',\n",
        "              metrics=['accuracy'])\n",
        "model.summary()"
      ],
      "execution_count": null,
      "outputs": []
    },
    {
      "cell_type": "code",
      "metadata": {
        "id": "4C1IIWj6UytJ"
      },
      "source": [
        "## Parameters for training\n",
        "steps_per_epoch = N_TRAIN//N_BATCH\n",
        "validation_steps = N_TEST//N_BATCH\n",
        "print(steps_per_epoch, validation_steps)"
      ],
      "execution_count": null,
      "outputs": []
    },
    {
      "cell_type": "code",
      "metadata": {
        "id": "qorvRydSUytL"
      },
      "source": [
        "## Training\n",
        "history = model.fit(train_dataset, epochs=N_EPOCHS, steps_per_epoch=steps_per_epoch, \n",
        "                    validation_data=test_dataset, validation_steps=validation_steps)"
      ],
      "execution_count": null,
      "outputs": []
    },
    {
      "cell_type": "markdown",
      "metadata": {
        "id": "KAAFSOnkUytO"
      },
      "source": [
        "## 5-Layer Network"
      ]
    },
    {
      "cell_type": "code",
      "metadata": {
        "id": "lCCMlrkgUytP"
      },
      "source": [
        "def create_model():\n",
        "    model = keras.Sequential()\n",
        "    model.add(keras.layers.Flatten(input_shape=(28,28)))\n",
        "    model.add(keras.layers.Dense(256, activation='relu'))\n",
        "    model.add(keras.layers.Dense(256, activation='relu'))\n",
        "    model.add(keras.layers.Dense(128, activation='relu'))\n",
        "    model.add(keras.layers.Dense(128, activation='relu'))\n",
        "    model.add(keras.layers.Dense(10, activation='softmax'))\n",
        "    return model"
      ],
      "execution_count": null,
      "outputs": []
    },
    {
      "cell_type": "code",
      "metadata": {
        "id": "X-lmchEWUytT"
      },
      "source": [
        "## Create model, compile & summary\n",
        "model = create_model()\n",
        "model.compile(optimizer=tf.keras.optimizers.Adam(learning_rate),\n",
        "              loss='categorical_crossentropy',\n",
        "              metrics=['accuracy'])\n",
        "model.summary()"
      ],
      "execution_count": null,
      "outputs": []
    },
    {
      "cell_type": "code",
      "metadata": {
        "id": "SLp4Qk14UytW"
      },
      "source": [
        "## Training\n",
        "history = model.fit(train_dataset, epochs=N_EPOCHS, steps_per_epoch=steps_per_epoch, \n",
        "                    validation_data=test_dataset, validation_steps=validation_steps)"
      ],
      "execution_count": null,
      "outputs": []
    },
    {
      "cell_type": "markdown",
      "metadata": {
        "id": "QknPYbfxUytY"
      },
      "source": [
        "## Dropout"
      ]
    },
    {
      "cell_type": "code",
      "metadata": {
        "id": "e5JRtYQ1UytZ"
      },
      "source": [
        "## model function\n",
        "drop_rate = 0.3\n",
        "\n",
        "def create_model():\n",
        "    model = keras.Sequential()\n",
        "    model.add(keras.layers.Flatten(input_shape=(28,28)))\n",
        "    model.add(keras.layers.Dense(256, activation='relu'))\n",
        "    model.add(keras.layers.Dropout(drop_rate))\n",
        "    model.add(keras.layers.Dense(256, activation='relu'))\n",
        "    model.add(keras.layers.Dropout(drop_rate))\n",
        "    model.add(keras.layers.Dense(128, activation='relu'))\n",
        "    model.add(keras.layers.Dropout(drop_rate))\n",
        "    model.add(keras.layers.Dense(128, activation='relu'))\n",
        "    model.add(keras.layers.Dropout(drop_rate))\n",
        "    model.add(keras.layers.Dense(10, activation='softmax'))\n",
        "    return model"
      ],
      "execution_count": null,
      "outputs": []
    },
    {
      "cell_type": "code",
      "metadata": {
        "id": "wCrBVL1sUytb"
      },
      "source": [
        "## Create model, compile & summary\n",
        "model = create_model()\n",
        "model.compile(optimizer=tf.keras.optimizers.Adam(learning_rate),\n",
        "              loss='categorical_crossentropy',\n",
        "              metrics=['accuracy'])\n",
        "model.summary()"
      ],
      "execution_count": null,
      "outputs": []
    },
    {
      "cell_type": "code",
      "metadata": {
        "scrolled": false,
        "id": "Y2-0HNKgUytd"
      },
      "source": [
        "## Training\n",
        "history = model.fit(train_dataset, epochs=N_EPOCHS+30, steps_per_epoch=steps_per_epoch, \n",
        "                    validation_data=test_dataset, validation_steps=validation_steps)"
      ],
      "execution_count": null,
      "outputs": []
    },
    {
      "cell_type": "markdown",
      "metadata": {
        "id": "xsmTVN1YUytg"
      },
      "source": [
        "## L2 Regularization"
      ]
    },
    {
      "cell_type": "code",
      "metadata": {
        "id": "Wmp8fH2CUyth"
      },
      "source": [
        "reg_weight = 0.00003\n",
        "\n",
        "def create_model():\n",
        "    model = keras.Sequential()\n",
        "    model.add(keras.layers.Flatten(input_shape=(28,28)))\n",
        "    model.add(keras.layers.Dense(256, activation='relu',\n",
        "                                kernel_regularizer=keras.regularizers.l2(reg_weight)))\n",
        "    model.add(keras.layers.Dense(256, activation='relu',\n",
        "                                kernel_regularizer=keras.regularizers.l2(reg_weight)))\n",
        "    model.add(keras.layers.Dense(128, activation='relu',\n",
        "                                kernel_regularizer=keras.regularizers.l2(reg_weight)))\n",
        "    model.add(keras.layers.Dense(128, activation='relu',\n",
        "                                kernel_regularizer=keras.regularizers.l2(reg_weight)))    \n",
        "    model.add(keras.layers.Dense(10, activation='softmax',\n",
        "                                kernel_regularizer=keras.regularizers.l2(reg_weight)))\n",
        "    return model"
      ],
      "execution_count": null,
      "outputs": []
    },
    {
      "cell_type": "code",
      "metadata": {
        "id": "jgXE1SveUytk"
      },
      "source": [
        "model = create_model()\n",
        "model.compile(optimizer=tf.keras.optimizers.Adam(learning_rate),\n",
        "              loss='categorical_crossentropy',\n",
        "              metrics=['accuracy'])\n",
        "model.summary()"
      ],
      "execution_count": null,
      "outputs": []
    },
    {
      "cell_type": "code",
      "metadata": {
        "id": "ORICNJEGUytm"
      },
      "source": [
        "## Training\n",
        "history = model.fit(train_dataset, epochs=N_EPOCHS, steps_per_epoch=steps_per_epoch, \n",
        "                    validation_data=test_dataset, validation_steps=validation_steps)"
      ],
      "execution_count": null,
      "outputs": []
    },
    {
      "cell_type": "markdown",
      "metadata": {
        "id": "BMqivarTUyto"
      },
      "source": [
        "## Batch Normalization"
      ]
    },
    {
      "cell_type": "code",
      "metadata": {
        "id": "b-U0XkH7Uytp"
      },
      "source": [
        "def create_model():\n",
        "    model = keras.Sequential()\n",
        "    model.add(keras.layers.Flatten(input_shape=(28,28)))\n",
        "    model.add(keras.layers.Dense(256))\n",
        "    model.add(keras.layers.BatchNormalization())\n",
        "    model.add(keras.layers.ReLU())\n",
        "    model.add(keras.layers.Dense(256))\n",
        "    model.add(keras.layers.BatchNormalization())\n",
        "    model.add(keras.layers.ReLU())\n",
        "    model.add(keras.layers.Dense(128))\n",
        "    model.add(keras.layers.BatchNormalization())\n",
        "    model.add(keras.layers.ReLU())\n",
        "    model.add(keras.layers.Dense(128))\n",
        "    model.add(keras.layers.BatchNormalization())\n",
        "    model.add(keras.layers.ReLU())\n",
        "    model.add(keras.layers.Dense(10))\n",
        "    model.add(keras.layers.BatchNormalization())\n",
        "    model.add(keras.layers.Softmax())\n",
        "    return model"
      ],
      "execution_count": null,
      "outputs": []
    },
    {
      "cell_type": "code",
      "metadata": {
        "id": "MZPccFskUyts"
      },
      "source": [
        "model = create_model()\n",
        "model.compile(optimizer=tf.keras.optimizers.Adam(learning_rate),\n",
        "              loss='categorical_crossentropy',\n",
        "              metrics=['accuracy'])\n",
        "model.summary()"
      ],
      "execution_count": null,
      "outputs": []
    },
    {
      "cell_type": "code",
      "metadata": {
        "id": "MmVPab1-Uytv"
      },
      "source": [
        "## Training\n",
        "history = model.fit(train_dataset, epochs=N_EPOCHS, steps_per_epoch=steps_per_epoch, \n",
        "                    validation_data=test_dataset, validation_steps=validation_steps)"
      ],
      "execution_count": null,
      "outputs": []
    },
    {
      "cell_type": "markdown",
      "metadata": {
        "id": "MWIGs6HPUytx"
      },
      "source": [
        "# Learning Rate Decay"
      ]
    },
    {
      "cell_type": "code",
      "metadata": {
        "id": "GabczA5XUyty"
      },
      "source": [
        "## model function\n",
        "def create_model():\n",
        "    model = keras.Sequential()\n",
        "    model.add(keras.layers.Flatten(input_shape=(28,28)))\n",
        "    model.add(keras.layers.Dense(256, activation='relu'))\n",
        "    model.add(keras.layers.Dense(256, activation='relu'))\n",
        "    model.add(keras.layers.Dense(128, activation='relu'))\n",
        "    model.add(keras.layers.Dense(128, activation='relu'))\n",
        "    model.add(keras.layers.Dense(10, activation='softmax'))\n",
        "    return model"
      ],
      "execution_count": null,
      "outputs": []
    },
    {
      "cell_type": "code",
      "metadata": {
        "id": "2f392BnZUyt0"
      },
      "source": [
        "model = create_model()"
      ],
      "execution_count": null,
      "outputs": []
    },
    {
      "cell_type": "code",
      "metadata": {
        "id": "v3bZMNQEUyt2"
      },
      "source": [
        "lr_schedule = keras.optimizers.schedules.ExponentialDecay(initial_learning_rate=learning_rate,\n",
        "                                                          decay_steps=steps_per_epoch*10,\n",
        "                                                          decay_rate=0.5,\n",
        "                                                          staircase=True)"
      ],
      "execution_count": null,
      "outputs": []
    },
    {
      "cell_type": "code",
      "metadata": {
        "id": "Pq2DLqjZUyt5"
      },
      "source": [
        "model.compile(optimizer=keras.optimizers.Adam(lr_schedule),\n",
        "                 loss = 'categorical_crossentropy',\n",
        "                 metrics=['accuracy'])"
      ],
      "execution_count": null,
      "outputs": []
    },
    {
      "cell_type": "code",
      "metadata": {
        "id": "XYmTxwTCUyt8"
      },
      "source": [
        "## Training\n",
        "history = model.fit(train_dataset, epochs=N_EPOCHS, steps_per_epoch=steps_per_epoch, \n",
        "                    validation_data=test_dataset, validation_steps=validation_steps)"
      ],
      "execution_count": null,
      "outputs": []
    },
    {
      "cell_type": "markdown",
      "metadata": {
        "id": "mOj6NDiuUyt_"
      },
      "source": [
        "## Learning Rate Schedule"
      ]
    },
    {
      "cell_type": "code",
      "metadata": {
        "id": "ylJ1Fn5dUyt_"
      },
      "source": [
        "## model function\n",
        "def create_model():\n",
        "    model = keras.Sequential()\n",
        "    model.add(keras.layers.Flatten(input_shape=(28,28)))\n",
        "    model.add(keras.layers.Dense(256, activation='relu'))\n",
        "    model.add(keras.layers.Dense(256, activation='relu'))\n",
        "    model.add(keras.layers.Dense(128, activation='relu'))\n",
        "    model.add(keras.layers.Dense(128, activation='relu'))\n",
        "    model.add(keras.layers.Dense(10, activation='softmax'))\n",
        "    return model"
      ],
      "execution_count": null,
      "outputs": []
    },
    {
      "cell_type": "code",
      "metadata": {
        "id": "3o48qK2vUyuC"
      },
      "source": [
        "model = create_model()"
      ],
      "execution_count": null,
      "outputs": []
    },
    {
      "cell_type": "code",
      "metadata": {
        "id": "vb8WW-PeUyuG"
      },
      "source": [
        "## learning rate schedule에 대한 함수 - step decay example\n",
        "def lr_schedule_fn(epoch):\n",
        "    if epoch < 10:        \n",
        "        return learning_rate\n",
        "    elif epoch <20:\n",
        "        return learning_rate * 0.1\n",
        "    else:\n",
        "        return learning_rate * 0.01"
      ],
      "execution_count": null,
      "outputs": []
    },
    {
      "cell_type": "code",
      "metadata": {
        "id": "pOAZUqg4UyuI"
      },
      "source": [
        "## learning rate schedule에 대한 함수 - exponential decay example\n",
        "#def lr_schedule_fn(epoch):\n",
        "#    return learning_rate * 0.01**(epoch/N_EPOCHS) "
      ],
      "execution_count": null,
      "outputs": []
    },
    {
      "cell_type": "code",
      "metadata": {
        "id": "jQRJIvBVUyuL"
      },
      "source": [
        "## callback을 이용한 learning rate scheduler 생성\n",
        "lr_scheduler = keras.callbacks.LearningRateScheduler(lr_schedule_fn)"
      ],
      "execution_count": null,
      "outputs": []
    },
    {
      "cell_type": "code",
      "metadata": {
        "id": "R5EvzXnCUyuM"
      },
      "source": [
        "model.compile(optimizer=tf.keras.optimizers.Adam(learning_rate),\n",
        "              loss='categorical_crossentropy',\n",
        "              metrics=['accuracy'])"
      ],
      "execution_count": null,
      "outputs": []
    },
    {
      "cell_type": "code",
      "metadata": {
        "id": "x6JQQFjnUyuO"
      },
      "source": [
        "history = model.fit(train_dataset, epochs=N_EPOCHS, steps_per_epoch=steps_per_epoch, \n",
        "                    validation_data=test_dataset, validation_steps=validation_steps,\n",
        "                    callbacks=[lr_scheduler])"
      ],
      "execution_count": null,
      "outputs": []
    },
    {
      "cell_type": "code",
      "metadata": {
        "id": "hL3xYxTdYwiF"
      },
      "source": [
        "## 결과 확인\n",
        "def plot_image(i, predictions_array, true_label, img):\n",
        "    predictions_array, true_label, img = predictions_array[i], true_label[i], img[i]\n",
        "    plt.grid(False)\n",
        "    plt.xticks([])\n",
        "    plt.yticks([])\n",
        "\n",
        "    plt.imshow(img,cmap=plt.cm.binary)\n",
        "\n",
        "    predicted_label = np.argmax(predictions_array)\n",
        "    if predicted_label == true_label:\n",
        "        color = 'blue'\n",
        "    else:\n",
        "        color = 'red'\n",
        "\n",
        "    plt.xlabel(\"{} {:2.0f}% ({})\".format(class_names[predicted_label],\n",
        "                                100*np.max(predictions_array),\n",
        "                                class_names[true_label]),\n",
        "                                color=color)\n",
        "\n",
        "def plot_value_array(i, predictions_array, true_label):\n",
        "    predictions_array, true_label = predictions_array[i], true_label[i]\n",
        "    plt.grid(False)\n",
        "    #plt.xticks([])\n",
        "    plt.xticks(range(N_CLASS), class_names, rotation=90)\n",
        "    plt.yticks([])\n",
        "    thisplot = plt.bar(range(N_CLASS), predictions_array, color=\"#777777\")\n",
        "    plt.ylim([0, 1]) \n",
        "    predicted_label = np.argmax(predictions_array)\n",
        " \n",
        "    thisplot[predicted_label].set_color('red')\n",
        "    thisplot[true_label].set_color('blue')"
      ],
      "execution_count": null,
      "outputs": []
    },
    {
      "cell_type": "code",
      "metadata": {
        "id": "qBvmRDd3YxIr"
      },
      "source": [
        "rnd_idx = np.random.randint(1, N_TEST//N_BATCH)\n",
        "img_cnt = 0\n",
        "for images, labels in test_dataset:\n",
        "    img_cnt += 1\n",
        "    if img_cnt != rnd_idx:\n",
        "        continue\n",
        "    predictions = model(images, training=False)\n",
        "    num_rows = 5\n",
        "    num_cols = 3\n",
        "    num_images = num_rows*num_cols\n",
        "    labels = tf.argmax(labels, axis=-1)\n",
        "    plt.figure(figsize=(3*2*num_cols, 4*num_rows))\n",
        "    plt.subplots_adjust(hspace=1.0)\n",
        "    for i in range(num_images):\n",
        "        plt.subplot(num_rows, 2*num_cols, 2*i+1)\n",
        "        plot_image(i, predictions.numpy(), labels.numpy(), images.numpy())\n",
        "        plt.subplot(num_rows, 2*num_cols, 2*i+2)\n",
        "        plot_value_array(i, predictions.numpy(), labels.numpy())        \n",
        "    break"
      ],
      "execution_count": null,
      "outputs": []
    },
    {
      "cell_type": "code",
      "metadata": {
        "id": "71ujGwo2YxLT"
      },
      "source": [
        "from sklearn.metrics import confusion_matrix\n",
        "import seaborn as sns\n",
        "\n",
        "# 혼동 행렬을 만듭니다.\n",
        "predictions = model.predict(test_images)\n",
        "plt.figure(figsize = (7, 7))\n",
        "cm = confusion_matrix(np.argmax(test_labels, axis = -1), np.argmax(predictions, axis = -1))\n",
        "sns.heatmap(cm, annot = True, fmt = 'd',cmap = 'Blues')\n",
        "plt.xlabel('predicted label')\n",
        "plt.ylabel('true label')\n",
        "plt.show()"
      ],
      "execution_count": null,
      "outputs": []
    },
    {
      "cell_type": "markdown",
      "metadata": {
        "id": "eMYl9svEZ19P"
      },
      "source": [
        "## Find Your Best Model for MNIST"
      ]
    },
    {
      "cell_type": "code",
      "metadata": {
        "id": "-BVoaiXlUyus"
      },
      "source": [
        ""
      ],
      "execution_count": null,
      "outputs": []
    }
  ]
}